{
 "cells": [
  {
   "cell_type": "markdown",
   "metadata": {},
   "source": [
    "Based on what you have leaned in this course, web scrape the API lists on this page, and export your result into a CSV file.\n",
    "\n",
    "https://www.programmableweb.com/category/all/apis\n",
    "OR\n",
    "https://www.programmableweb.com/category/tools/api\n",
    "\n",
    "Your Python code should scrape the following details from each table row:\n",
    "- API Name\n",
    "- API (absolute) URL\n",
    "- API Category\n",
    "- API Description"
   ]
  },
  {
   "cell_type": "code",
   "execution_count": null,
   "metadata": {},
   "outputs": [],
   "source": [
    "# API Name - views-field-pw-version-title\n",
    "# API (absolute) URL \n",
    "# API Category\n",
    "# API Description - views-field-field-api-description"
   ]
  },
  {
   "cell_type": "code",
   "execution_count": null,
   "metadata": {},
   "outputs": [],
   "source": [
    "from bs4 import BeautifulSoup\n",
    "import requests\n",
    "import pandas as pd\n",
    "import os.path"
   ]
  },
  {
   "cell_type": "code",
   "execution_count": null,
   "metadata": {},
   "outputs": [],
   "source": [
    "url = \"https://www.programmableweb.com/category/all/apis\"\n",
    "home_url = \"https://www.programmableweb.com\"\n",
    "api_dict = {}\n",
    "api_count = 0"
   ]
  },
  {
   "cell_type": "code",
   "execution_count": null,
   "metadata": {},
   "outputs": [],
   "source": [
    "response = requests.get(url)\n",
    "# print(response)\n",
    "data = response.text\n",
    "# print(data)\n",
    "soup = BeautifulSoup(data,'html.parser')\n",
    "# print(soup)\n",
    "\n",
    "oddapis = soup.find_all('tr',{'class':'odd'})\n",
    "for oddapi in oddapis:\n",
    "    title = oddapi.find(\"td\",{\"class\":\"views-field-pw-version-title\"}).text\n",
    "    description = oddapi.find(\"td\",{\"class\":\"views-field-field-api-description\"}).text\n",
    "    category = oddapi.find(\"td\",{\"class\":\"views-field-field-article-primary-category\"}).text\n",
    "    link = home_url + oddapi.find('td', {'class': 'views-field-pw-version-title'}).find_next('a').get('href')\n",
    "    # print('Job Title:', title, '\\nCategory', category, '\\nDescription', description, '\\nLink', link, '\\n---')\n",
    "    api_count += 1\n",
    "    api_dict[api_count] = [title, category, description, link]\n",
    "    \n",
    "evenapis = soup.find_all('tr',{'class':'even'})\n",
    "for evenapi in evenapis:\n",
    "    title = evenapi.find(\"td\",{\"class\":\"views-field-pw-version-title\"}).text\n",
    "    description = evenapi.find(\"td\",{\"class\":\"views-field-field-api-description\"}).text\n",
    "    category = evenapi.find(\"td\",{\"class\":\"views-field-field-article-primary-category\"}).text\n",
    "    link = home_url + evenapi.find('td', {'class': 'views-field-pw-version-title'}).find_next('a').get('href')\n",
    "    # print('Job Title:', title, '\\nCategory', category, '\\nDescription', description, '\\nLink', link, '\\n---')\n",
    "    api_count += 1\n",
    "    api_dict[api_count] = [title, category, description, link]"
   ]
  },
  {
   "cell_type": "code",
   "execution_count": null,
   "metadata": {},
   "outputs": [],
   "source": [
    "url_tag = soup.find('a',{'title':'Go to next page'})\n",
    "if url_tag.get('href'):\n",
    "    url= home_url + url_tag.get('href')\n",
    "    print(url)\n",
    "# else:\n",
    "#     break"
   ]
  },
  {
   "cell_type": "code",
   "execution_count": null,
   "metadata": {},
   "outputs": [],
   "source": [
    "# print(api_dict)\n",
    "print(\"Total APIs:\", api_count)"
   ]
  },
  {
   "cell_type": "code",
   "execution_count": null,
   "metadata": {},
   "outputs": [],
   "source": [
    "api_dict_df = pd.DataFrame.from_dict(api_dict, orient = 'index', columns = ['Title','Category','Description', 'Link'])"
   ]
  },
  {
   "cell_type": "code",
   "execution_count": null,
   "metadata": {},
   "outputs": [],
   "source": [
    "# print(api_dict_df.head())"
   ]
  },
  {
   "cell_type": "code",
   "execution_count": null,
   "metadata": {},
   "outputs": [],
   "source": [
    "api_dict_df.to_csv('api_dict.csv')"
   ]
  },
  {
   "cell_type": "code",
   "execution_count": null,
   "metadata": {},
   "outputs": [],
   "source": []
  }
 ],
 "metadata": {
  "kernelspec": {
   "display_name": "Python 3",
   "language": "python",
   "name": "python3"
  },
  "language_info": {
   "codemirror_mode": {
    "name": "ipython",
    "version": 3
   },
   "file_extension": ".py",
   "mimetype": "text/x-python",
   "name": "python",
   "nbconvert_exporter": "python",
   "pygments_lexer": "ipython3",
   "version": "3.6.9"
  }
 },
 "nbformat": 4,
 "nbformat_minor": 4
}
